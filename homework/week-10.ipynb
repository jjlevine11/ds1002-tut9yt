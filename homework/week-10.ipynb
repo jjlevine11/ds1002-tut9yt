{
  "nbformat": 4,
  "nbformat_minor": 0,
  "metadata": {
    "colab": {
      "provenance": [],
      "include_colab_link": true
    },
    "kernelspec": {
      "name": "python3",
      "display_name": "Python 3"
    },
    "language_info": {
      "name": "python"
    }
  },
  "cells": [
    {
      "cell_type": "markdown",
      "metadata": {
        "id": "view-in-github",
        "colab_type": "text"
      },
      "source": [
        "<a href=\"https://colab.research.google.com/github/jjlevine11/ds1002-tut9yt/blob/main/homework/week-10.ipynb\" target=\"_parent\"><img src=\"https://colab.research.google.com/assets/colab-badge.svg\" alt=\"Open In Colab\"/></a>"
      ]
    },
    {
      "cell_type": "markdown",
      "source": [
        "# Homework - Week 10\n",
        "\n",
        "Complete the following blocks as specified in the directions. Run each cell to return the desired output. Save your notebook back to your GitHub repository and submit the GitHub URL to your notebook for review."
      ],
      "metadata": {
        "id": "phbaQTT5gy8A"
      }
    },
    {
      "cell_type": "markdown",
      "source": [
        "## Class Basics\n",
        "\n",
        "Closely inspect the class below and answer the questions in the following cells."
      ],
      "metadata": {
        "id": "38Pg39pMrDua"
      }
    },
    {
      "cell_type": "code",
      "source": [
        "\n",
        "class Products:\n",
        "  def __init__(self, id, name, price, description, manufacturer):\n",
        "    self.id = id\n",
        "    self.name = name\n",
        "    self.price = price\n",
        "    self.description = description\n",
        "    self.manufacturer = manufacturer\n",
        "\n",
        "  def print_product(self):\n",
        "    print(f\"Product {self.id} is {self.name} made by {self.manufacturer}. It costs ${self.price}\")\n"
      ],
      "metadata": {
        "id": "kdFLCHtOg53p"
      },
      "execution_count": 19,
      "outputs": []
    },
    {
      "cell_type": "code",
      "source": [
        "# What are the attributes of this class?\n",
        "# self.id, self.name, self.price, self.description, self.manufacturer\n"
      ],
      "metadata": {
        "id": "SG85PC5Q0oSi"
      },
      "execution_count": 20,
      "outputs": []
    },
    {
      "cell_type": "code",
      "source": [
        "# In one line of code, create an instance of the class populating its attributes.\n",
        "my_products = Products(\"id\", \"name\", \"price\", \"description\", \"manufacturer\")"
      ],
      "metadata": {
        "id": "ckuUZlUc0q8D"
      },
      "execution_count": 21,
      "outputs": []
    },
    {
      "cell_type": "code",
      "source": [
        "# Referencing the instance you just created, what code is required to print out the name of the instance?\n",
        "\n",
        "print(my_products.name)"
      ],
      "metadata": {
        "id": "Ksp2TAiM0u5t",
        "colab": {
          "base_uri": "https://localhost:8080/"
        },
        "outputId": "2de15c30-4b02-4e4d-fd72-eb3fe7de77cf"
      },
      "execution_count": 22,
      "outputs": [
        {
          "output_type": "stream",
          "name": "stdout",
          "text": [
            "name\n"
          ]
        }
      ]
    },
    {
      "cell_type": "markdown",
      "source": [
        "## Class Methods"
      ],
      "metadata": {
        "id": "0jQs4JYU2Kfh"
      }
    },
    {
      "cell_type": "code",
      "source": [
        "# Using the instance you created above, call the `print_product` method properly in a line of code.\n",
        "\n",
        "my_products.print_product()"
      ],
      "metadata": {
        "id": "aO-zWkhd172f",
        "colab": {
          "base_uri": "https://localhost:8080/"
        },
        "outputId": "8cda56d9-007b-4c16-deef-65d0f01eb27b"
      },
      "execution_count": 21,
      "outputs": [
        {
          "output_type": "stream",
          "name": "stdout",
          "text": [
            "Product id is name made by manufacturer. It costs $price\n"
          ]
        }
      ]
    },
    {
      "cell_type": "code",
      "source": [
        "# Now declare the class again (copy + paste from above). But now add a NEW method that you write.\n",
        "# This method should create a new attribute called \"sales_price\" that is 80% of the normal price.\n",
        "#\n",
        "# Finally, write this method to print out a statement like \"The ________ product is on sale for _____\"\n",
        "# where you fill in the blanks with the name and sales_price of the product.\n",
        "\n",
        "class Products:\n",
        "  def __init__(self, id, name, price, description, manufacturer, sales_price):\n",
        "    self.id = id\n",
        "    self.name = name\n",
        "    self.price = price\n",
        "    self.description = description\n",
        "    self.manufacturer = manufacturer\n",
        "    self.sales_price = int(price) * 0.8\n",
        "\n",
        "def print_product(self):\n",
        "  print(f\"the {self.name} product is on sale for {self.sales_price}\")"
      ],
      "metadata": {
        "id": "75apcUeJ2VQo"
      },
      "execution_count": 10,
      "outputs": []
    },
    {
      "cell_type": "code",
      "source": [
        "# Execute the class above\n",
        "# Trying to print the above, not sure if this is correct\n",
        "print(print_product)"
      ],
      "metadata": {
        "id": "TZiNWOl_2-oh",
        "colab": {
          "base_uri": "https://localhost:8080/"
        },
        "outputId": "8f8e00e9-5ebc-49ab-ca93-3049a966a434"
      },
      "execution_count": 11,
      "outputs": [
        {
          "output_type": "stream",
          "name": "stdout",
          "text": [
            "<function print_product at 0x7fddc1b7ff40>\n"
          ]
        }
      ]
    },
    {
      "cell_type": "code",
      "source": [
        "# Now create an instance of the class with new values.\n",
        "\n",
        "my_products2 = Products(\"clothes\", \"shirt\", 40, \"good condition\", \"kohls\", 32)"
      ],
      "metadata": {
        "id": "TT8qK1Ie3EVX"
      },
      "execution_count": 16,
      "outputs": []
    },
    {
      "cell_type": "code",
      "source": [
        "# Finally, using the instance you just created, invoke the new method you wrote. Be sure it prints\n",
        "# the desired text described above.\n",
        "# Trying to use the \"print_prodcut\" option but not sure why this is not correct\n",
        "\n",
        "my_products2.print_product()"
      ],
      "metadata": {
        "id": "mobnFcMw3Icp"
      },
      "execution_count": null,
      "outputs": []
    }
  ]
}