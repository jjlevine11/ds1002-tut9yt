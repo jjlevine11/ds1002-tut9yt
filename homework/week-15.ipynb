{
  "nbformat": 4,
  "nbformat_minor": 0,
  "metadata": {
    "colab": {
      "provenance": [],
      "include_colab_link": true
    },
    "kernelspec": {
      "name": "ir",
      "display_name": "R"
    },
    "language_info": {
      "name": "R"
    }
  },
  "cells": [
    {
      "cell_type": "markdown",
      "metadata": {
        "id": "view-in-github",
        "colab_type": "text"
      },
      "source": [
        "<a href=\"https://colab.research.google.com/github/jjlevine11/ds1002-tut9yt/blob/main/homework/week-15.ipynb\" target=\"_parent\"><img src=\"https://colab.research.google.com/assets/colab-badge.svg\" alt=\"Open In Colab\"/></a>"
      ]
    },
    {
      "cell_type": "markdown",
      "source": [
        "# Homework - Week 15\n",
        "\n",
        "Complete the following blocks as specified in the directions. Run each cell to return the desired output. Save your notebook back to your GitHub repository and submit the GitHub URL to your notebook for review."
      ],
      "metadata": {
        "id": "sZruw3XQogej"
      }
    },
    {
      "cell_type": "markdown",
      "source": [
        "## 1. Create Functions (4 pts)\n",
        "\n",
        "Create two functions in the cells below, according to the prompts given."
      ],
      "metadata": {
        "id": "lkaofBQypx1X"
      }
    },
    {
      "cell_type": "code",
      "source": [
        "# create a function in R that:\n",
        "#   1. takes a single integer as an input parameter\n",
        "#   2. determines whether the integer is even or odd\n",
        "#   3. returns a character statement \"The integer <x> is even\" or \"The integer <x> is odd\" (replace <x> with the actual input provided)\n",
        "#\n",
        "# then execute the function twice using two different input values, displaying even and odd results.\n",
        "\n",
        "func <- function(x) {\n",
        "  if (x %% 2 == 0) {\n",
        "    return(paste(\"The integer\", x, \"is even\"))\n",
        "  } else {\n",
        "    return(paste(\"The integer\", x, \"is odd\"))\n",
        "  }\n",
        "}\n",
        "\n",
        "value1 <- func(1)\n",
        "value2 <- func(2)\n",
        "\n",
        "\n",
        "return(value1)\n",
        "return(value2)\n",
        "\n",
        "\n"
      ],
      "metadata": {
        "id": "1fjq5bkEp6Zv",
        "colab": {
          "base_uri": "https://localhost:8080/",
          "height": 52
        },
        "outputId": "f4caf29f-8a2c-4d45-f2e8-d3de0da81b49"
      },
      "execution_count": 17,
      "outputs": [
        {
          "output_type": "display_data",
          "data": {
            "text/html": [
              "'The integer 1 is odd'"
            ],
            "text/markdown": "'The integer 1 is odd'",
            "text/latex": "'The integer 1 is odd'",
            "text/plain": [
              "[1] \"The integer 1 is odd\""
            ]
          },
          "metadata": {}
        },
        {
          "output_type": "display_data",
          "data": {
            "text/html": [
              "'The integer 2 is even'"
            ],
            "text/markdown": "'The integer 2 is even'",
            "text/latex": "'The integer 2 is even'",
            "text/plain": [
              "[1] \"The integer 2 is even\""
            ]
          },
          "metadata": {}
        }
      ]
    },
    {
      "cell_type": "code",
      "source": [
        "# create a function in R that:\n",
        "#   1. takes 4 integer input parameters\n",
        "#   2. returns the mean value of the inputs\n",
        "#   3. has default values for the 4 input parameters, in case they are not provided when the function is called.\n",
        "#\n",
        "# then execute the function twice: once where you provide the input values, and once where you do not.\n",
        "func <- function(a = 0, b = 0, c = 0, d = 0) {\n",
        "  mean_value <- mean(c(a, b, c, d))\n",
        "  return(mean_value)\n",
        "}\n",
        "\n",
        "result_with_input_values <- func(2,3,4,5)\n",
        "print(result_with_values)\n",
        "\n",
        "result_with_default_values <- func()\n",
        "print(result_with_default_values)"
      ],
      "metadata": {
        "id": "f3IFD-T6p6Rd",
        "colab": {
          "base_uri": "https://localhost:8080/"
        },
        "outputId": "9d1f3148-241a-4889-b9e6-dc94db13aedc"
      },
      "execution_count": 22,
      "outputs": [
        {
          "output_type": "stream",
          "name": "stdout",
          "text": [
            "[1] 3.5\n",
            "[1] 0\n"
          ]
        }
      ]
    },
    {
      "cell_type": "markdown",
      "source": [
        "## 2. Plot Data (4 pts)"
      ],
      "metadata": {
        "id": "F6Rx0GIGrpOB"
      }
    },
    {
      "cell_type": "markdown",
      "source": [
        "In the cell below, write the code required to plot from the `msleep` sample data set.\n",
        "\n",
        "1. Display only animals with body weights of 30 or greater.\n",
        "2. Group the animals by `order`.\n",
        "3. Display the mean `sleep_total` for each group in a bar plot."
      ],
      "metadata": {
        "id": "IDLyOjOJsFCX"
      }
    },
    {
      "cell_type": "code",
      "source": [
        "#\n",
        "library(ggplot2)\n",
        "data(msleep)\n",
        "\n",
        "filtered_data <- msleep %>% filter(bodywt >= 30)\n",
        "grouped_data <- filtered_data %>% group_by(order) %>% summarize(mean_sleep_total = mean(sleep_total))\n",
        "ggplot(grouped_data, aes(x = order, y = mean_sleep_total)) +\n",
        "  geom_bar(stat = \"identity\") +\n",
        "  labs(title = \"Mean Sleep Total for Animals with Body Weights of 30 or greater\",\n",
        "      x = \"Order\",\n",
        "      y = \"Mean Sleep Total\")"
      ],
      "metadata": {
        "id": "0D5Ia-BPsoPZ",
        "colab": {
          "base_uri": "https://localhost:8080/",
          "height": 437
        },
        "outputId": "93f6e6ee-0975-44ee-d2ef-478b56f66145"
      },
      "execution_count": 28,
      "outputs": [
        {
          "output_type": "display_data",
          "data": {
            "text/plain": [
              "plot without title"
            ],
            "image/png": "[encoded data removed]"
          },
          "metadata": {
            "image/png": {
              "width": 420,
              "height": 420
            }
          }
        }
      ]
    },
    {
      "cell_type": "markdown",
      "source": [
        "## 3. Clean and Analyze Data Using R (4 pts)\n",
        "\n",
        "In the cells below use R to perform the following data cleaning steps on this file:\n",
        "https://raw.githubusercontent.com/nmagee/ds1002/main/data/social-media-users.csv\n",
        "\n",
        "1. Remove any duplicate rows.\n",
        "2. Remove any records where `last_login` or `birthdate` are empty.\n",
        "3. Display only the records with the 10 highest `follower` counts.\n",
        "4. Determine counts of users when grouped by continent."
      ],
      "metadata": {
        "id": "-2ZaFcCCv3o8"
      }
    },
    {
      "cell_type": "code",
      "source": [
        "#\n",
        "install.packages(\"tidyverse\")\n",
        "library(tidyverse)\n",
        "data <- read.csv(\"https://raw.githubusercontent.com/nmagee/ds1002/main/data/social-media-users.csv\")\n",
        "\n",
        "data <- distinct(data)\n"
      ],
      "metadata": {
        "id": "V4nBsdVsyauQ",
        "colab": {
          "base_uri": "https://localhost:8080/"
        },
        "outputId": "9db91fe2-4d31-42d3-822e-ae45f0b1e3c8"
      },
      "execution_count": 41,
      "outputs": [
        {
          "output_type": "stream",
          "name": "stderr",
          "text": [
            "Installing package into ‘/usr/local/lib/R/site-library’\n",
            "(as ‘lib’ is unspecified)\n",
            "\n"
          ]
        }
      ]
    },
    {
      "cell_type": "code",
      "source": [
        "#\n",
        "data <- data %>%\n",
        "  filter(!is.na(last_login) & !is.na(birthdate))"
      ],
      "metadata": {
        "id": "LwXD1sNulIT3"
      },
      "execution_count": 42,
      "outputs": []
    },
    {
      "cell_type": "code",
      "source": [
        "#\n",
        "top_10_followers <- data %>%\n",
        "  arrange(desc(followers)) %>%\n",
        "  head(10)\n",
        "print(top_10_followers)"
      ],
      "metadata": {
        "id": "7qa100btlI4Z",
        "colab": {
          "base_uri": "https://localhost:8080/"
        },
        "outputId": "1c83d7bb-3081-48df-84ab-a2163406157c"
      },
      "execution_count": 44,
      "outputs": [
        {
          "output_type": "stream",
          "name": "stdout",
          "text": [
            "        username        full_name  birthdate                              email\n",
            "1      lleckeyb6     Lynne Leckey  4/19/1998          lleckeyb6@tripadvisor.com\n",
            "2     spharoaha2    Staci Pharoah   9/2/1985              spharoaha2@sfgate.com\n",
            "3      dpagettqf       Des Pagett   4/1/1992                   dpagettqf@360.cn\n",
            "4      cbraderkb      Cody Brader                            cbraderkb@lulu.com\n",
            "5       djagerdv      Deeyn Jager                        djagerdv@posterous.com\n",
            "6      cduftondy   Celisse Dufton  8/24/1995                 cduftondy@ox.ac.uk\n",
            "7    dbartalin77 Desiree Bartalin  8/23/1993               dbartalin77@usda.gov\n",
            "8      grivardmp      Gwen Rivard  9/12/1982            grivardmp@google.com.hk\n",
            "9     mraggitt9g   Morgan Raggitt 11/16/1992                 mraggitt9g@home.pl\n",
            "10 vshallcrass3p Vally Shallcrass  9/26/2002 vshallcrass3p@pagesperso-orange.fr\n",
            "   continent followers last_login interests\n",
            "1         SA     99977  3/14/2021    sports\n",
            "2       <NA>     99905 10/26/2023    sports\n",
            "3       <NA>     99854                music\n",
            "4         AF     99747  6/19/2021     music\n",
            "5         AF     99731   4/7/2022    travel\n",
            "6         OC     99707  9/26/2021    sports\n",
            "7         AF     99618  5/30/2022     music\n",
            "8         OC     99526   4/4/2020     music\n",
            "9       <NA>     99508 11/12/2021     music\n",
            "10      <NA>     99419                music\n"
          ]
        }
      ]
    },
    {
      "cell_type": "code",
      "source": [
        "#\n",
        "counts_by_continent <- data %>%\n",
        "  group_by(continent) %>%\n",
        "  summarize(user_count = n())\n",
        "\n",
        "print(counts_by_continent)"
      ],
      "metadata": {
        "id": "MjrZisnxlJUa",
        "colab": {
          "base_uri": "https://localhost:8080/"
        },
        "outputId": "994d66ab-febb-4e59-abc6-3ed68d92f9b8"
      },
      "execution_count": 47,
      "outputs": [
        {
          "output_type": "stream",
          "name": "stdout",
          "text": [
            "\u001b[90m# A tibble: 7 × 2\u001b[39m\n",
            "  continent user_count\n",
            "  \u001b[3m\u001b[90m<chr>\u001b[39m\u001b[23m          \u001b[3m\u001b[90m<int>\u001b[39m\u001b[23m\n",
            "\u001b[90m1\u001b[39m AF               103\n",
            "\u001b[90m2\u001b[39m AN                 1\n",
            "\u001b[90m3\u001b[39m AS               182\n",
            "\u001b[90m4\u001b[39m EU               127\n",
            "\u001b[90m5\u001b[39m OC               148\n",
            "\u001b[90m6\u001b[39m SA                92\n",
            "\u001b[90m7\u001b[39m \u001b[31mNA\u001b[39m               347\n"
          ]
        }
      ]
    }
  ]
}