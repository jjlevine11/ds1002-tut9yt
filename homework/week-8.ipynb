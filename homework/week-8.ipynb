{
  "nbformat": 4,
  "nbformat_minor": 0,
  "metadata": {
    "colab": {
      "provenance": [],
      "include_colab_link": true
    },
    "kernelspec": {
      "name": "python3",
      "display_name": "Python 3"
    },
    "language_info": {
      "name": "python"
    }
  },
  "cells": [
    {
      "cell_type": "markdown",
      "metadata": {
        "id": "view-in-github",
        "colab_type": "text"
      },
      "source": [
        "<a href=\"https://colab.research.google.com/github/jjlevine11/ds1002-tut9yt/blob/main/homework/week-8.ipynb\" target=\"_parent\"><img src=\"https://colab.research.google.com/assets/colab-badge.svg\" alt=\"Open In Colab\"/></a>"
      ]
    },
    {
      "cell_type": "markdown",
      "source": [
        "## While-Loops\n",
        "\n",
        "Perform the following steps in code:\n",
        "1. Define a variable and populate it with `0`.\n",
        "2. Create a while statement that evaluates whether that variable is less than or equal to `20`.\n",
        "3. Within the while loop evaluate if the variable value is even or odd.\n",
        "4. Within the while loop, if the variable value is even, print it. If not, do not print it.\n",
        "5. Within the while loop, finally add `1` to the variable before it repeats."
      ],
      "metadata": {
        "id": "But1V5T5qWJG"
      }
    },
    {
      "cell_type": "code",
      "source": [
        "# code here\n",
        "my_variable = 0\n",
        "while my_variable <= 20:\n",
        "  my_variable = my_variable +1\n",
        "  print(my_variable)\n",
        "print('my_variable is less than or equal to 20') if my_variable <= 20 else print('not true')\n",
        "print('odd') if my_variable % 2 ==1 else print(my_variable)\n"
      ],
      "metadata": {
        "id": "GyQTkbqUq6SQ",
        "colab": {
          "base_uri": "https://localhost:8080/"
        },
        "outputId": "ee817e87-ce92-4917-8d33-3ede97862007"
      },
      "execution_count": 9,
      "outputs": [
        {
          "output_type": "stream",
          "name": "stdout",
          "text": [
            "1\n",
            "2\n",
            "3\n",
            "4\n",
            "5\n",
            "6\n",
            "7\n",
            "8\n",
            "9\n",
            "10\n",
            "11\n",
            "12\n",
            "13\n",
            "14\n",
            "15\n",
            "16\n",
            "17\n",
            "18\n",
            "19\n",
            "20\n",
            "21\n",
            "not true\n",
            "odd\n"
          ]
        }
      ]
    },
    {
      "cell_type": "markdown",
      "source": [
        "## For-Loops with Lists"
      ],
      "metadata": {
        "id": "ghRg1MRwoXvD"
      }
    },
    {
      "cell_type": "code",
      "source": [
        "# Use this list in the exercises below\n",
        "\n",
        "mylist = [9, 15, 23, 4, 92, 47, 33, 17, -4, 18, 38, -242]"
      ],
      "metadata": {
        "id": "G0PaWRBuoZdQ"
      },
      "execution_count": 10,
      "outputs": []
    },
    {
      "cell_type": "code",
      "source": [
        "# Write a command to print out all the values of this list\n",
        "# EXCEPT for any negative values. Omit them from the printing.\n",
        "for values in mylist:\n",
        "  if values >= 0:\n",
        "    print(values)"
      ],
      "metadata": {
        "id": "hzoe9vw3phWs",
        "colab": {
          "base_uri": "https://localhost:8080/"
        },
        "outputId": "52a85987-cc75-4876-dc18-33f28eb5ca03"
      },
      "execution_count": 30,
      "outputs": [
        {
          "output_type": "stream",
          "name": "stdout",
          "text": [
            "9\n",
            "15\n",
            "23\n",
            "4\n",
            "92\n",
            "47\n",
            "33\n",
            "17\n",
            "18\n",
            "38\n"
          ]
        }
      ]
    },
    {
      "cell_type": "code",
      "source": [
        "# Repeat the command from above, but this time get\n",
        "# the absolute value of any negative values in the list\n",
        "# and print those with the other items.\n",
        "for values in mylist:\n",
        "  if values >= 0:\n",
        "    print(values)\n",
        "  if values <=0:\n",
        "    print(abs(values))"
      ],
      "metadata": {
        "id": "IE1-XLNrpnvy",
        "colab": {
          "base_uri": "https://localhost:8080/"
        },
        "outputId": "d35b6e2d-44ec-475f-d02d-c6d6f6c8862a"
      },
      "execution_count": 33,
      "outputs": [
        {
          "output_type": "stream",
          "name": "stdout",
          "text": [
            "9\n",
            "15\n",
            "23\n",
            "4\n",
            "92\n",
            "47\n",
            "33\n",
            "17\n",
            "4\n",
            "18\n",
            "38\n",
            "242\n"
          ]
        }
      ]
    },
    {
      "cell_type": "code",
      "source": [
        "# Similar to above, write a command to print out items in\n",
        "# the list but omit any values greater than 20 and less than 40.\n",
        "for values in mylist:\n",
        "  if values < 20:\n",
        "    print(values)\n",
        "  if values > 40:\n",
        "    print(values)"
      ],
      "metadata": {
        "id": "rC38pZowp4LX",
        "colab": {
          "base_uri": "https://localhost:8080/"
        },
        "outputId": "1ad3f2b3-49a0-4985-ae9b-0e623c7dfcc4"
      },
      "execution_count": 34,
      "outputs": [
        {
          "output_type": "stream",
          "name": "stdout",
          "text": [
            "9\n",
            "15\n",
            "4\n",
            "92\n",
            "47\n",
            "17\n",
            "-4\n",
            "18\n",
            "-242\n"
          ]
        }
      ]
    },
    {
      "cell_type": "markdown",
      "source": [
        "## For-Loops with Dictionaries"
      ],
      "metadata": {
        "id": "BD1Wg4oSSEdz"
      }
    },
    {
      "cell_type": "code",
      "source": [
        "capitals = {'United States':'Washington DC',\n",
        "          'Italy':'Rome',\n",
        "          'England':'London',\n",
        "          'Thailand':'Bangkok',\n",
        "          'Brazil':'Brasilia'}"
      ],
      "metadata": {
        "id": "9DpHR_WzSGA8"
      },
      "execution_count": 2,
      "outputs": []
    },
    {
      "cell_type": "code",
      "source": [
        "# Write a command to print out all the keys of this dict\n",
        "for thing in capitals:\n",
        "  print(thing)"
      ],
      "metadata": {
        "id": "Iy_i6RE3S1ta",
        "colab": {
          "base_uri": "https://localhost:8080/"
        },
        "outputId": "35adefde-adad-4ea9-ab94-1a50d5899886"
      },
      "execution_count": 8,
      "outputs": [
        {
          "output_type": "stream",
          "name": "stdout",
          "text": [
            "United States\n",
            "Italy\n",
            "England\n",
            "Thailand\n",
            "Brazil\n"
          ]
        }
      ]
    },
    {
      "cell_type": "code",
      "source": [
        "# Write a command to print out all the values of this dict\n",
        "for thing in capitals:\n",
        "  print(capitals[thing])"
      ],
      "metadata": {
        "id": "eYNBRQAsS95v",
        "colab": {
          "base_uri": "https://localhost:8080/"
        },
        "outputId": "040667f3-b286-4061-9b61-41be61627a3c"
      },
      "execution_count": 9,
      "outputs": [
        {
          "output_type": "stream",
          "name": "stdout",
          "text": [
            "Washington DC\n",
            "Rome\n",
            "London\n",
            "Bangkok\n",
            "Brasilia\n"
          ]
        }
      ]
    },
    {
      "cell_type": "code",
      "source": [
        "# Write a command to print all the keys and values for this dict\n",
        "for key, value in capitals.items():\n",
        "  print(key, \" \", value)\n"
      ],
      "metadata": {
        "id": "b1KYFdDxSH7X",
        "colab": {
          "base_uri": "https://localhost:8080/"
        },
        "outputId": "380a4564-3fd7-4789-c120-09fe74a38fcb"
      },
      "execution_count": 11,
      "outputs": [
        {
          "output_type": "stream",
          "name": "stdout",
          "text": [
            "United States   Washington DC\n",
            "Italy   Rome\n",
            "England   London\n",
            "Thailand   Bangkok\n",
            "Brazil   Brasilia\n"
          ]
        }
      ]
    },
    {
      "cell_type": "code",
      "source": [
        "# Write a command to print only the first three values and NOTHING more.\n",
        "count=0\n",
        "for key, value in capitals.items():\n",
        "  if count < 3:\n",
        "    print(value)\n",
        "    count +=1\n",
        "  else:\n",
        "    break\n",
        "\n"
      ],
      "metadata": {
        "id": "pun10Fq2oonQ",
        "colab": {
          "base_uri": "https://localhost:8080/"
        },
        "outputId": "751cd5f4-68d8-4120-e33c-fdbb19cffceb"
      },
      "execution_count": 33,
      "outputs": [
        {
          "output_type": "stream",
          "name": "stdout",
          "text": [
            "Washington DC\n",
            "Rome\n",
            "London\n"
          ]
        }
      ]
    }
  ]
}