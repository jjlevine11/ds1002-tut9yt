{
  "nbformat": 4,
  "nbformat_minor": 0,
  "metadata": {
    "colab": {
      "provenance": [],
      "authorship_tag": "ABX9TyMrc+UgnYFi0Hjw9YY+xJmR",
      "include_colab_link": true
    },
    "kernelspec": {
      "name": "python3",
      "display_name": "Python 3"
    },
    "language_info": {
      "name": "python"
    }
  },
  "cells": [
    {
      "cell_type": "markdown",
      "metadata": {
        "id": "view-in-github",
        "colab_type": "text"
      },
      "source": [
        "<a href=\"https://colab.research.google.com/github/jjlevine11/ds1002-tut9yt/blob/main/rock_paper_scissors_game.ipynb\" target=\"_parent\"><img src=\"https://colab.research.google.com/assets/colab-badge.svg\" alt=\"Open In Colab\"/></a>"
      ]
    },
    {
      "cell_type": "code",
      "execution_count": 27,
      "metadata": {
        "colab": {
          "base_uri": "https://localhost:8080/"
        },
        "id": "Vw-WqgqVdpWi",
        "outputId": "dcf254f4-1a98-4c0d-dee5-c1a97c95df5b"
      },
      "outputs": [
        {
          "output_type": "stream",
          "name": "stdout",
          "text": [
            "Rock, Paper, Scissors? Paper\n",
            "We have a tie!\n"
          ]
        }
      ],
      "source": [
        "from random import randint\n",
        "\n",
        "t = [\"Rock\", \"Paper\", \"Scissors\"]\n",
        "\n",
        "computer = t[randint(0,2)]\n",
        "\n",
        "player = input(\"Rock, Paper, Scissors? \")\n",
        "\n",
        "if player == computer:\n",
        "  print(\"We have a tie!\")\n",
        "elif player == \"Rock\":\n",
        "  if computer == \"Scissors\":\n",
        "    print(\"You win!\")\n",
        "  else:\n",
        "    print(\"Computer wins\")\n",
        "elif player == \"Paper\":\n",
        "  if computer == \"Rock\":\n",
        "    print(\"You win!\")\n",
        "  else:\n",
        "    print(\"Computer wins\")\n",
        "elif player == \"Scissors\":\n",
        "  if computer == \"Paper\":\n",
        "    print(\"You win!\")\n",
        "  else:\n",
        "    print(\"Computer wins\")"
      ]
    }
  ]
}