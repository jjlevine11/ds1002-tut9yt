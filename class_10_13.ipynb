{
  "nbformat": 4,
  "nbformat_minor": 0,
  "metadata": {
    "colab": {
      "provenance": [],
      "authorship_tag": "ABX9TyMu5ILxLV2P9dD4r9FupleE",
      "include_colab_link": true
    },
    "kernelspec": {
      "name": "python3",
      "display_name": "Python 3"
    },
    "language_info": {
      "name": "python"
    }
  },
  "cells": [
    {
      "cell_type": "markdown",
      "metadata": {
        "id": "view-in-github",
        "colab_type": "text"
      },
      "source": [
        "<a href=\"https://colab.research.google.com/github/jjlevine11/ds1002-tut9yt/blob/main/class_10_13.ipynb\" target=\"_parent\"><img src=\"https://colab.research.google.com/assets/colab-badge.svg\" alt=\"Open In Colab\"/></a>"
      ]
    },
    {
      "cell_type": "code",
      "execution_count": 2,
      "metadata": {
        "colab": {
          "base_uri": "https://localhost:8080/"
        },
        "id": "peOLdRPAV8Lh",
        "outputId": "f8f667c4-99ea-4c7a-8565-e9ca266cd006"
      },
      "outputs": [
        {
          "output_type": "stream",
          "name": "stdout",
          "text": [
            "1234\n",
            "5\n",
            "3\n",
            "6\n",
            "3\n",
            "4564\n",
            "234\n",
            "4564\n",
            "9\n"
          ]
        }
      ],
      "source": [
        "mylist = [1234,5,3,6,3,4564,234,4564,9]\n",
        "\n",
        "for something in mylist:\n",
        "  print(something)"
      ]
    },
    {
      "cell_type": "code",
      "source": [
        "mylist2 = [\"bagels\",\"cereal\",\"yogurt\",\"coffee\",\"eggs\",\"pancakes\",\"waffles\",\"syrups\"]\n",
        "\n",
        "for food in mylist2:\n",
        "  if food == \"eggs\":\n",
        "    #print(\"yo i got some eggs\")\n",
        "    continue\n",
        "  elif food == \"yogurt\":\n",
        "    print(\"yogurt is here\")\n",
        "  else:\n",
        "      print(food)"
      ],
      "metadata": {
        "colab": {
          "base_uri": "https://localhost:8080/"
        },
        "id": "OE45rCGhWdii",
        "outputId": "61da380e-8a22-49c8-eb73-47d7de3796ab"
      },
      "execution_count": 15,
      "outputs": [
        {
          "output_type": "stream",
          "name": "stdout",
          "text": [
            "bagels\n",
            "cereal\n",
            "yogurt is here\n",
            "coffee\n",
            "pancakes\n",
            "waffles\n",
            "syrups\n"
          ]
        }
      ]
    },
    {
      "cell_type": "code",
      "source": [
        "faves = {\n",
        "    \"food\":\"sandwich\",\n",
        "    \"sport\":\"golf\",\n",
        "    \"color\":\"blue\",\n",
        "    \"car\":\"jeep\",\n",
        "    \"city\":\"atlanta\"\n",
        "}"
      ],
      "metadata": {
        "id": "WlVxqahVY9TD"
      },
      "execution_count": 18,
      "outputs": []
    },
    {
      "cell_type": "code",
      "source": [
        "faves"
      ],
      "metadata": {
        "colab": {
          "base_uri": "https://localhost:8080/"
        },
        "id": "9luy0JR_Ze6i",
        "outputId": "7fa11a29-5c81-43be-cac1-dd306c9517e8"
      },
      "execution_count": 19,
      "outputs": [
        {
          "output_type": "execute_result",
          "data": {
            "text/plain": [
              "{'food': 'sandwich',\n",
              " 'sport': 'golf',\n",
              " 'color': 'blue',\n",
              " 'car': 'jeep',\n",
              " 'city': 'atlanta'}"
            ]
          },
          "metadata": {},
          "execution_count": 19
        }
      ]
    },
    {
      "cell_type": "code",
      "source": [
        "faves.keys()"
      ],
      "metadata": {
        "colab": {
          "base_uri": "https://localhost:8080/"
        },
        "id": "L-QN_ekTZ4Od",
        "outputId": "fc5a8ebc-168d-4427-a1ff-cd623cf38d45"
      },
      "execution_count": 20,
      "outputs": [
        {
          "output_type": "execute_result",
          "data": {
            "text/plain": [
              "dict_keys(['food', 'sport', 'color', 'car', 'city'])"
            ]
          },
          "metadata": {},
          "execution_count": 20
        }
      ]
    },
    {
      "cell_type": "code",
      "source": [
        "faves[\"color\"]"
      ],
      "metadata": {
        "colab": {
          "base_uri": "https://localhost:8080/",
          "height": 35
        },
        "id": "6OjQk10uaIEd",
        "outputId": "e2b41f8b-203c-46af-d776-ca28aa21201a"
      },
      "execution_count": 21,
      "outputs": [
        {
          "output_type": "execute_result",
          "data": {
            "text/plain": [
              "'blue'"
            ],
            "application/vnd.google.colaboratory.intrinsic+json": {
              "type": "string"
            }
          },
          "metadata": {},
          "execution_count": 21
        }
      ]
    },
    {
      "cell_type": "code",
      "source": [
        "for fave in faves:\n",
        "  print(fave)"
      ],
      "metadata": {
        "colab": {
          "base_uri": "https://localhost:8080/"
        },
        "id": "wuIzyykCa1zu",
        "outputId": "8b1142bb-2cc2-4b3b-b865-72e56b5e9f8d"
      },
      "execution_count": 22,
      "outputs": [
        {
          "output_type": "stream",
          "name": "stdout",
          "text": [
            "food\n",
            "sport\n",
            "color\n",
            "car\n",
            "city\n"
          ]
        }
      ]
    },
    {
      "cell_type": "code",
      "source": [
        "for fave in faves:\n",
        "  print(faves[fave])"
      ],
      "metadata": {
        "colab": {
          "base_uri": "https://localhost:8080/"
        },
        "id": "iz4egUEHbMWO",
        "outputId": "c897adbc-5278-4432-e282-5af20389d5ee"
      },
      "execution_count": 23,
      "outputs": [
        {
          "output_type": "stream",
          "name": "stdout",
          "text": [
            "sandwich\n",
            "golf\n",
            "blue\n",
            "jeep\n",
            "atlanta\n"
          ]
        }
      ]
    },
    {
      "cell_type": "code",
      "source": [
        "for key, value in faves.items():\n",
        "  print(key,\"-->\",value)"
      ],
      "metadata": {
        "colab": {
          "base_uri": "https://localhost:8080/"
        },
        "id": "ECZV0tl3bgom",
        "outputId": "0b45ed6a-6ac1-4ea2-9278-0e370198f1fd"
      },
      "execution_count": 27,
      "outputs": [
        {
          "output_type": "stream",
          "name": "stdout",
          "text": [
            "food --> sandwich\n",
            "sport --> golf\n",
            "color --> blue\n",
            "car --> jeep\n",
            "city --> atlanta\n"
          ]
        }
      ]
    },
    {
      "cell_type": "code",
      "source": [
        "mytupe = ('squirrels','rabbits','beavers','opposums','foxes','wolves','sheep')"
      ],
      "metadata": {
        "id": "AYygXThBc9C-"
      },
      "execution_count": 28,
      "outputs": []
    },
    {
      "cell_type": "code",
      "source": [
        "mytupe"
      ],
      "metadata": {
        "colab": {
          "base_uri": "https://localhost:8080/"
        },
        "id": "WpxnsKtPdIZ6",
        "outputId": "7b64bd98-e3f2-4581-ff18-6b70c002b876"
      },
      "execution_count": 29,
      "outputs": [
        {
          "output_type": "execute_result",
          "data": {
            "text/plain": [
              "('squirrels', 'rabbits', 'beavers', 'opposums', 'foxes', 'wolves', 'sheep')"
            ]
          },
          "metadata": {},
          "execution_count": 29
        }
      ]
    },
    {
      "cell_type": "code",
      "source": [
        "for thing in mytupe:\n",
        "  print(thing)"
      ],
      "metadata": {
        "colab": {
          "base_uri": "https://localhost:8080/"
        },
        "id": "o1FASyVFdKR2",
        "outputId": "b09f286f-f22e-4f11-ff57-9778718602b9"
      },
      "execution_count": 31,
      "outputs": [
        {
          "output_type": "stream",
          "name": "stdout",
          "text": [
            "squirrels\n",
            "rabbits\n",
            "beavers\n",
            "opposums\n",
            "foxes\n",
            "wolves\n",
            "sheep\n"
          ]
        }
      ]
    },
    {
      "cell_type": "code",
      "source": [
        "for thing in mytupe:\n",
        "  if(thing == 'rabbits') or (thing == 'sheep'):\n",
        "    print('I have rabbits or sheep in my tuples')\n",
        "  elif (thing != 'opposums'):\n",
        "    print(thing)\n",
        "  else:\n",
        "        continue"
      ],
      "metadata": {
        "colab": {
          "base_uri": "https://localhost:8080/"
        },
        "id": "2UsQTBQUdPwo",
        "outputId": "4a2a3c38-2140-4197-c5d9-660ecb03e2b4"
      },
      "execution_count": 38,
      "outputs": [
        {
          "output_type": "stream",
          "name": "stdout",
          "text": [
            "squirrels\n",
            "I have rabbits or sheep in my tuples\n",
            "beavers\n",
            "foxes\n",
            "wolves\n",
            "I have rabbits or sheep in my tuples\n"
          ]
        }
      ]
    }
  ]
}