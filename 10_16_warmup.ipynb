{
  "nbformat": 4,
  "nbformat_minor": 0,
  "metadata": {
    "colab": {
      "provenance": [],
      "authorship_tag": "ABX9TyN9y2GtAxY5NenhoqCNnETP",
      "include_colab_link": true
    },
    "kernelspec": {
      "name": "python3",
      "display_name": "Python 3"
    },
    "language_info": {
      "name": "python"
    }
  },
  "cells": [
    {
      "cell_type": "markdown",
      "metadata": {
        "id": "view-in-github",
        "colab_type": "text"
      },
      "source": [
        "<a href=\"https://colab.research.google.com/github/jjlevine11/ds1002-tut9yt/blob/main/10_16_warmup.ipynb\" target=\"_parent\"><img src=\"https://colab.research.google.com/assets/colab-badge.svg\" alt=\"Open In Colab\"/></a>"
      ]
    },
    {
      "cell_type": "code",
      "execution_count": 1,
      "metadata": {
        "id": "W71cQPLqyp_C"
      },
      "outputs": [],
      "source": [
        "import string\n",
        "import random"
      ]
    },
    {
      "cell_type": "code",
      "source": [
        "lc_letters = string.ascii_lowercase\n",
        "print(lc_letters)\n",
        "\n",
        "uc_letters = string.ascii_uppercase\n",
        "print(uc_letters)\n",
        "\n",
        "digits = string.digits\n",
        "print(digits)\n",
        "\n",
        "punc = string.punctuation\n",
        "print(punc)\n",
        "\n",
        "\n",
        "allchars = lc_letters + uc_letters + digits + punc"
      ],
      "metadata": {
        "colab": {
          "base_uri": "https://localhost:8080/"
        },
        "id": "PPPALuIYzArA",
        "outputId": "7ab1428f-f28b-49a8-86dd-ee6ff230859f"
      },
      "execution_count": 52,
      "outputs": [
        {
          "output_type": "stream",
          "name": "stdout",
          "text": [
            "abcdefghijklmnopqrstuvwxyz\n",
            "ABCDEFGHIJKLMNOPQRSTUVWXYZ\n",
            "0123456789\n",
            "!\"#$%&'()*+,-./:;<=>?@[\\]^_`{|}~\n"
          ]
        }
      ]
    },
    {
      "cell_type": "code",
      "source": [
        "character = random.choice(allchars)\n",
        "print(character)"
      ],
      "metadata": {
        "colab": {
          "base_uri": "https://localhost:8080/"
        },
        "id": "003JMm5Izomr",
        "outputId": "a15cf1df-34b3-4a6e-9a7d-3ec962bcb549"
      },
      "execution_count": 36,
      "outputs": [
        {
          "output_type": "stream",
          "name": "stdout",
          "text": [
            "5\n"
          ]
        }
      ]
    },
    {
      "cell_type": "code",
      "source": [
        "passwd = ''\n",
        "\n",
        "for i in range(8):\n",
        "  passwd += random.choice(allchars)\n",
        "  passwd = passwd.replace(\"'\",\"\")\n",
        "  passwd = passwd.replace('\"','')\n",
        "\n",
        "print(passwd)"
      ],
      "metadata": {
        "colab": {
          "base_uri": "https://localhost:8080/"
        },
        "id": "3-awjbYozvyX",
        "outputId": "7f1c4e0a-f5cd-400c-abca-e0aaf154b6d1"
      },
      "execution_count": 47,
      "outputs": [
        {
          "output_type": "stream",
          "name": "stdout",
          "text": [
            "^x*nbP;v\n"
          ]
        }
      ]
    },
    {
      "cell_type": "code",
      "source": [
        "allchars = lc_letters + uc_letters + digits + punc\n",
        "\n",
        "def give_me_a_password(length):\n",
        "  passwd = ''\n",
        "  for i in range(length):\n",
        "    passwd += random.choice(allchars)\n",
        "  print(passwd)\n",
        "\n",
        "\n",
        "give_me_a_password(40)"
      ],
      "metadata": {
        "colab": {
          "base_uri": "https://localhost:8080/"
        },
        "id": "WfcCWgXv2px8",
        "outputId": "05d4bb37-9e4d-40d2-cf30-4f1c7939ce19"
      },
      "execution_count": 56,
      "outputs": [
        {
          "output_type": "stream",
          "name": "stdout",
          "text": [
            "tE94rHzR`rdW\\t;/\"=<OiHJWLulO_HG}(|_?J#<1\n"
          ]
        }
      ]
    },
    {
      "cell_type": "code",
      "source": [
        "allchars = lc_letters + uc_letters + digits + punc\n",
        "\n",
        "def give_me_a_password(length):\n",
        "  passwd = ''\n",
        "  for i in range(length):\n",
        "    passwd += random.choice(allchars)\n",
        "  return passwd\n",
        "\n",
        "\n",
        "beatles = [\"John\",\"Paul\",\"Ringo\",\"George\"]\n",
        "\n",
        "for b in beatles:\n",
        "  passw = give_me_a_password(10)\n",
        "  print(b + ' ' + passw)"
      ],
      "metadata": {
        "colab": {
          "base_uri": "https://localhost:8080/"
        },
        "id": "xYlNO5PF37mM",
        "outputId": "f964c3ee-b473-4318-cfaa-472c7396eb44"
      },
      "execution_count": 62,
      "outputs": [
        {
          "output_type": "stream",
          "name": "stdout",
          "text": [
            "John `@CAKyT|V?\n",
            "Paul M:=l<WEXdz\n",
            "Ringo \"4Av?F$/fP\n",
            "George VD7Ln+myz?\n"
          ]
        }
      ]
    },
    {
      "cell_type": "markdown",
      "source": [
        "\n",
        "\n",
        "```\n",
        "Celsius to Farenheit\n",
        "```\n",
        "\n"
      ],
      "metadata": {
        "id": "yp8dWIgF6kAi"
      }
    },
    {
      "cell_type": "code",
      "source": [
        "def c_to_f(temp):\n",
        "  ftemp = (temp * 1.8) + 32\n",
        "  print(ftemp)\n",
        "  return ftemp"
      ],
      "metadata": {
        "id": "dgPlZLzY6ZjV"
      },
      "execution_count": 67,
      "outputs": []
    },
    {
      "cell_type": "code",
      "source": [
        "c_to_f(40)"
      ],
      "metadata": {
        "colab": {
          "base_uri": "https://localhost:8080/"
        },
        "id": "VCfuO0SG6317",
        "outputId": "fb7b16cc-c783-441d-9449-b67f8e3ff892"
      },
      "execution_count": 69,
      "outputs": [
        {
          "output_type": "stream",
          "name": "stdout",
          "text": [
            "104.0\n"
          ]
        },
        {
          "output_type": "execute_result",
          "data": {
            "text/plain": [
              "104.0"
            ]
          },
          "metadata": {},
          "execution_count": 69
        }
      ]
    },
    {
      "cell_type": "code",
      "source": [
        "def f_to_c(temp):\n",
        "  ctemp = (temp - 32) / 1.8\n",
        "  return ctemp"
      ],
      "metadata": {
        "id": "jweXoroG7dJM"
      },
      "execution_count": 70,
      "outputs": []
    },
    {
      "cell_type": "code",
      "source": [
        "f_to_c(104)"
      ],
      "metadata": {
        "colab": {
          "base_uri": "https://localhost:8080/"
        },
        "id": "5ajx5ecD7mTw",
        "outputId": "c68cb635-8975-4bb1-f92e-da96804dc34c"
      },
      "execution_count": 71,
      "outputs": [
        {
          "output_type": "execute_result",
          "data": {
            "text/plain": [
              "40.0"
            ]
          },
          "metadata": {},
          "execution_count": 71
        }
      ]
    },
    {
      "cell_type": "code",
      "source": [
        "def convert_temp(temp,unit):\n",
        "  #in case I want Celsius back\n",
        "  if unit == \"C\":\n",
        "    ctemp = (temp - 32) / 1.8\n",
        "    return ctemp\n",
        "  elif unit == 'F':\n",
        "    ftemp = (temp * 1.8) + 32\n",
        "    return ftemp\n",
        "  else:\n",
        "    print(\"Hey you didn't give me C or F!\")\n",
        "\n",
        "convert_temp(104,\"C\")"
      ],
      "metadata": {
        "colab": {
          "base_uri": "https://localhost:8080/"
        },
        "id": "VtlCh1pP7zch",
        "outputId": "93a84718-ef2b-45e5-e5e0-7eddfe29620c"
      },
      "execution_count": 77,
      "outputs": [
        {
          "output_type": "execute_result",
          "data": {
            "text/plain": [
              "40.0"
            ]
          },
          "metadata": {},
          "execution_count": 77
        }
      ]
    }
  ]
}