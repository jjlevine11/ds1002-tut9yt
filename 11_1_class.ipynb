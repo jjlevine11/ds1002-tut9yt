{
  "nbformat": 4,
  "nbformat_minor": 0,
  "metadata": {
    "colab": {
      "provenance": [],
      "authorship_tag": "ABX9TyPad4DW21tgK7msMzSMF/Ao",
      "include_colab_link": true
    },
    "kernelspec": {
      "name": "python3",
      "display_name": "Python 3"
    },
    "language_info": {
      "name": "python"
    }
  },
  "cells": [
    {
      "cell_type": "markdown",
      "metadata": {
        "id": "view-in-github",
        "colab_type": "text"
      },
      "source": [
        "<a href=\"https://colab.research.google.com/github/jjlevine11/ds1002-tut9yt/blob/main/11_1_class.ipynb\" target=\"_parent\"><img src=\"https://colab.research.google.com/assets/colab-badge.svg\" alt=\"Open In Colab\"/></a>"
      ]
    },
    {
      "cell_type": "code",
      "execution_count": 1,
      "metadata": {
        "id": "GkmGIAgRQ5Zd"
      },
      "outputs": [],
      "source": [
        "def fetch (obj, index):\n",
        "  return obj[index]"
      ]
    },
    {
      "cell_type": "code",
      "source": [
        "fetch(\"moon\", 3)"
      ],
      "metadata": {
        "colab": {
          "base_uri": "https://localhost:8080/",
          "height": 35
        },
        "id": "bTasozoZRBkB",
        "outputId": "77184a90-399c-4a87-cdd2-1be3418109a2"
      },
      "execution_count": 2,
      "outputs": [
        {
          "output_type": "execute_result",
          "data": {
            "text/plain": [
              "'n'"
            ],
            "application/vnd.google.colaboratory.intrinsic+json": {
              "type": "string"
            }
          },
          "metadata": {},
          "execution_count": 2
        }
      ]
    },
    {
      "cell_type": "code",
      "source": [
        "def fetch(obj, index):\n",
        "  try:\n",
        "    return obj[index]\n",
        "  except Exception as e:\n",
        "    print(f\"Exception caught: {e}\")"
      ],
      "metadata": {
        "id": "Aa3dyOrXRSGT"
      },
      "execution_count": 3,
      "outputs": []
    },
    {
      "cell_type": "code",
      "source": [
        "fetch(\"moon\", 4)"
      ],
      "metadata": {
        "colab": {
          "base_uri": "https://localhost:8080/"
        },
        "id": "nHQx2BlKRiNk",
        "outputId": "32af5313-4d07-4aeb-ad0d-ff0ea49a638a"
      },
      "execution_count": 4,
      "outputs": [
        {
          "output_type": "stream",
          "name": "stdout",
          "text": [
            "Exception caught: string index out of range\n"
          ]
        }
      ]
    },
    {
      "cell_type": "code",
      "source": [
        "try:\n",
        "  f = open('myfile.txt')\n",
        "  s = f.readline()\n",
        "  i = int(s.strip())\n",
        "\n",
        "except IOError as e:\n",
        "  print(f\"Exception caught: {e}\")"
      ],
      "metadata": {
        "colab": {
          "base_uri": "https://localhost:8080/"
        },
        "id": "gZYZ_XllRgs-",
        "outputId": "6612c545-94de-49a8-ebc3-7c10e64e5ca4"
      },
      "execution_count": 5,
      "outputs": [
        {
          "output_type": "stream",
          "name": "stdout",
          "text": [
            "Exception caught: [Errno 2] No such file or directory: 'myfile.txt'\n"
          ]
        }
      ]
    },
    {
      "cell_type": "code",
      "source": [
        "import sys\n",
        "\n",
        "def foolme():\n",
        "  try:\n",
        "    raise IndexError(\"blah blah\")\n",
        "  except Exception as e:\n",
        "    print(f\"An exception has been thrown: {e}\")\n",
        "  else:\n",
        "    print(\"Else has happened\")\n",
        "  finally:\n",
        "    print(\"Finally has happened\")\n",
        "    sys.exit(1)"
      ],
      "metadata": {
        "id": "x6LU8ojWVOoq"
      },
      "execution_count": 6,
      "outputs": []
    },
    {
      "cell_type": "code",
      "source": [
        "foolme()"
      ],
      "metadata": {
        "colab": {
          "base_uri": "https://localhost:8080/",
          "height": 197
        },
        "id": "WNkzjLKHVrIb",
        "outputId": "8c4464d3-9bf0-40c0-9985-8089ceec3592"
      },
      "execution_count": 7,
      "outputs": [
        {
          "output_type": "stream",
          "name": "stdout",
          "text": [
            "An exception has been thrown: blah blah\n",
            "Finally has happened\n"
          ]
        },
        {
          "output_type": "error",
          "ename": "SystemExit",
          "evalue": "ignored",
          "traceback": [
            "An exception has occurred, use %tb to see the full traceback.\n",
            "\u001b[0;31mSystemExit\u001b[0m\u001b[0;31m:\u001b[0m 1\n"
          ]
        },
        {
          "output_type": "stream",
          "name": "stderr",
          "text": [
            "/usr/local/lib/python3.10/dist-packages/IPython/core/interactiveshell.py:3561: UserWarning: To exit: use 'exit', 'quit', or Ctrl-D.\n",
            "  warn(\"To exit: use 'exit', 'quit', or Ctrl-D.\", stacklevel=1)\n"
          ]
        }
      ]
    }
  ]
}