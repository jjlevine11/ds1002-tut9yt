{
  "cells": [
    {
      "cell_type": "markdown",
      "metadata": {
        "id": "view-in-github",
        "colab_type": "text"
      },
      "source": [
        "<a href=\"https://colab.research.google.com/github/jjlevine11/ds1002-tut9yt/blob/main/notebooks/week8-warm_up_student.ipynb\" target=\"_parent\"><img src=\"https://colab.research.google.com/assets/colab-badge.svg\" alt=\"Open In Colab\"/></a>"
      ]
    },
    {
      "cell_type": "markdown",
      "metadata": {
        "id": "zjanBhX9WjtJ"
      },
      "source": [
        "# Warm-up - Boolean Operators\n",
        "\n",
        "Python has THREE boolean operators, also known as \"logical\" operators:\n",
        "\n",
        "- `and`\n",
        "- `or`\n",
        "- `not`\n",
        "\n",
        "Evaluating other python expressions using these boolean operators returns a \"boolean\" reply: `True` or `False`."
      ]
    },
    {
      "cell_type": "code",
      "execution_count": 2,
      "metadata": {
        "id": "5nYXTcRDWjtL"
      },
      "outputs": [],
      "source": [
        "# Define variables\n",
        "my_float = 18.0\n",
        "your_float = 14.0"
      ]
    },
    {
      "cell_type": "markdown",
      "metadata": {
        "id": "BL2wPegvWjtM"
      },
      "source": [
        "1. `my_float` bigger than 10 and smaller than 18?  \n",
        "(use a boolean operator)"
      ]
    },
    {
      "cell_type": "code",
      "execution_count": 9,
      "metadata": {
        "id": "UXuoQsaIWjtM",
        "colab": {
          "base_uri": "https://localhost:8080/"
        },
        "outputId": "728d5a5c-ff2c-461c-a304-0c77ed256829"
      },
      "outputs": [
        {
          "output_type": "stream",
          "name": "stdout",
          "text": [
            "False\n",
            "False\n"
          ]
        }
      ],
      "source": [
        "print(10<my_float<18)\n",
        "print(my_float>10 and my_float<18)"
      ]
    },
    {
      "cell_type": "markdown",
      "metadata": {
        "id": "VMJqD1mOWjtM"
      },
      "source": [
        "2. `my_float` smaller than 14 or bigger than 17?  \n",
        "(use a boolean operator)"
      ]
    },
    {
      "cell_type": "code",
      "execution_count": 5,
      "metadata": {
        "id": "UeSicTQuWjtM",
        "colab": {
          "base_uri": "https://localhost:8080/"
        },
        "outputId": "cfc2c867-8c43-4676-86f3-bbba93744cf1"
      },
      "outputs": [
        {
          "output_type": "stream",
          "name": "stdout",
          "text": [
            "True\n"
          ]
        }
      ],
      "source": [
        "print(my_float<14 or my_float>17)"
      ]
    },
    {
      "cell_type": "markdown",
      "metadata": {
        "id": "eqV9yn6BWjtM"
      },
      "source": [
        "3. Double `my_float` smaller than triple `your_float`?"
      ]
    },
    {
      "cell_type": "code",
      "execution_count": 12,
      "metadata": {
        "id": "Xia2m-nfWjtM",
        "colab": {
          "base_uri": "https://localhost:8080/"
        },
        "outputId": "165c3559-84d3-4045-b8fa-49e62fd18d6a"
      },
      "outputs": [
        {
          "output_type": "stream",
          "name": "stdout",
          "text": [
            "True\n"
          ]
        }
      ],
      "source": [
        "print(2 * my_float < 3 * your_float)"
      ]
    },
    {
      "cell_type": "code",
      "source": [
        "my_float == your_float"
      ],
      "metadata": {
        "colab": {
          "base_uri": "https://localhost:8080/"
        },
        "id": "Fp_F63s0ygbc",
        "outputId": "cb107d7b-7bde-4958-e565-c943c569a3fc"
      },
      "execution_count": 13,
      "outputs": [
        {
          "output_type": "execute_result",
          "data": {
            "text/plain": [
              "False"
            ]
          },
          "metadata": {},
          "execution_count": 13
        }
      ]
    },
    {
      "cell_type": "markdown",
      "metadata": {
        "id": "EMPkl0olWjtN"
      },
      "source": [
        "4.\n",
        "`x = 8`  \n",
        "`y = 9`  \n",
        "`not(not(x < 3) and not(y > 14 or y > 10))`  \n",
        "\n",
        "---\n",
        "\n",
        "What will be the result if you execute these statements? (refrain from actually running - use your brain)   \n",
        "a. True  \n",
        "b. False  \n",
        "c. An error  \n",
        "\n",
        "*note: `not` has a higher priority than `and` and `or`; it is executed first*\n",
        "\n",
        "8<3 is false, not(false) is true, not(true) is false -> FALSE\n",
        "|9>14 is false, 9>10 is false, not(false) is true -> TRUE\n",
        "|FALSE and TRUE -> FALSE"
      ]
    },
    {
      "cell_type": "code",
      "execution_count": 14,
      "metadata": {
        "id": "GYRWw4EUWjtN",
        "colab": {
          "base_uri": "https://localhost:8080/"
        },
        "outputId": "6c6ef216-ac55-47e8-82f7-79633c1a0bc7"
      },
      "outputs": [
        {
          "output_type": "execute_result",
          "data": {
            "text/plain": [
              "False"
            ]
          },
          "metadata": {},
          "execution_count": 14
        }
      ],
      "source": [
        "x = 8\n",
        "y = 9\n",
        "not(not(x < 3) and not(y > 14 or y > 10))"
      ]
    }
  ],
  "metadata": {
    "kernelspec": {
      "display_name": "Python 3.8.9 64-bit",
      "language": "python",
      "name": "python3"
    },
    "language_info": {
      "codemirror_mode": {
        "name": "ipython",
        "version": 3
      },
      "file_extension": ".py",
      "mimetype": "text/x-python",
      "name": "python",
      "nbconvert_exporter": "python",
      "pygments_lexer": "ipython3",
      "version": "3.8.9"
    },
    "orig_nbformat": 4,
    "vscode": {
      "interpreter": {
        "hash": "31f2aee4e71d21fbe5cf8b01ff0e069b9275f58929596ceb00d14d90e3e16cd6"
      }
    },
    "colab": {
      "provenance": [],
      "include_colab_link": true
    }
  },
  "nbformat": 4,
  "nbformat_minor": 0
}