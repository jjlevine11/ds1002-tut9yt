{
  "nbformat": 4,
  "nbformat_minor": 0,
  "metadata": {
    "colab": {
      "provenance": [],
      "include_colab_link": true
    },
    "kernelspec": {
      "name": "python3",
      "display_name": "Python 3"
    },
    "language_info": {
      "name": "python"
    }
  },
  "cells": [
    {
      "cell_type": "markdown",
      "metadata": {
        "id": "view-in-github",
        "colab_type": "text"
      },
      "source": [
        "<a href=\"https://colab.research.google.com/github/jjlevine11/ds1002-tut9yt/blob/main/notebooks/functions-warmup.ipynb\" target=\"_parent\"><img src=\"https://colab.research.google.com/assets/colab-badge.svg\" alt=\"Open In Colab\"/></a>"
      ]
    },
    {
      "cell_type": "markdown",
      "source": [
        "# Warm-Up"
      ],
      "metadata": {
        "id": "J1KpP6ms77_s"
      }
    },
    {
      "cell_type": "code",
      "execution_count": 20,
      "metadata": {
        "id": "vHvAikqF76bK",
        "outputId": "56171c31-293a-422b-8266-330a01901b39",
        "colab": {
          "base_uri": "https://localhost:8080/"
        }
      },
      "outputs": [
        {
          "output_type": "stream",
          "name": "stdout",
          "text": [
            "1 is odd\n",
            "2 is even\n",
            "3 is odd\n",
            "4 is even\n"
          ]
        }
      ],
      "source": [
        "# Write a function that takes TWO integer parameters.\n",
        "# The function should range from the first integer to the second\n",
        "# The function should then evaluate each integer and determine whether\n",
        "# it is even or odd, and print that out (for every item)\n",
        "#\n",
        "def even_odd_determiner(start,finish):\n",
        "  for i in range (start, finish):\n",
        "    if i % 2 == 0:\n",
        "      print(i, 'is even')\n",
        "    else:\n",
        "      print(i, 'is odd')\n",
        "even_odd_determiner(1,5)"
      ]
    }
  ]
}