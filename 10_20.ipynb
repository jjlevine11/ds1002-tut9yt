{
  "nbformat": 4,
  "nbformat_minor": 0,
  "metadata": {
    "colab": {
      "provenance": [],
      "authorship_tag": "ABX9TyPBoQCri2ad8PuMFEj6lAMP",
      "include_colab_link": true
    },
    "kernelspec": {
      "name": "python3",
      "display_name": "Python 3"
    },
    "language_info": {
      "name": "python"
    }
  },
  "cells": [
    {
      "cell_type": "markdown",
      "metadata": {
        "id": "view-in-github",
        "colab_type": "text"
      },
      "source": [
        "<a href=\"https://colab.research.google.com/github/jjlevine11/ds1002-tut9yt/blob/main/10_20.ipynb\" target=\"_parent\"><img src=\"https://colab.research.google.com/assets/colab-badge.svg\" alt=\"Open In Colab\"/></a>"
      ]
    },
    {
      "cell_type": "code",
      "execution_count": 1,
      "metadata": {
        "colab": {
          "base_uri": "https://localhost:8080/"
        },
        "id": "AE9HHvEzZLKx",
        "outputId": "b58a6315-a3d0-4e6c-ae9f-bb89647d7919"
      },
      "outputs": [
        {
          "output_type": "stream",
          "name": "stdout",
          "text": [
            "17\n"
          ]
        }
      ],
      "source": [
        "x=17\n",
        "print(x)"
      ]
    },
    {
      "cell_type": "code",
      "source": [
        "def call_x():\n",
        "  print(x)\n",
        "\n",
        "call_x"
      ],
      "metadata": {
        "colab": {
          "base_uri": "https://localhost:8080/"
        },
        "id": "SFFarLoVZQ8A",
        "outputId": "550eb224-be5b-4c4b-fd20-35d1cef64b5f"
      },
      "execution_count": 4,
      "outputs": [
        {
          "output_type": "execute_result",
          "data": {
            "text/plain": [
              "<function __main__.call_x()>"
            ]
          },
          "metadata": {},
          "execution_count": 4
        }
      ]
    },
    {
      "cell_type": "code",
      "source": [
        "def private_var():\n",
        "  xx = \"charlottesville\"\n",
        "  print(xx)\n",
        "\n",
        "private_var()\n",
        "#print(xx)"
      ],
      "metadata": {
        "colab": {
          "base_uri": "https://localhost:8080/"
        },
        "id": "VfZotiHMZgC2",
        "outputId": "ac91be99-d970-4714-9c14-f64a0f4e5041"
      },
      "execution_count": 7,
      "outputs": [
        {
          "output_type": "stream",
          "name": "stdout",
          "text": [
            "charlottesville\n"
          ]
        }
      ]
    },
    {
      "cell_type": "code",
      "source": [
        "def create_a_global_var():\n",
        "  global zz\n",
        "  zz = \"top\"\n",
        "  print(zz)\n",
        "\n",
        "create_a_global_var()\n",
        "\n",
        "\n"
      ],
      "metadata": {
        "colab": {
          "base_uri": "https://localhost:8080/"
        },
        "id": "tMF91X2XZ80D",
        "outputId": "d5c4d682-4019-4796-96f7-bdf49e020269"
      },
      "execution_count": 12,
      "outputs": [
        {
          "output_type": "stream",
          "name": "stdout",
          "text": [
            "top\n"
          ]
        }
      ]
    },
    {
      "cell_type": "code",
      "source": [
        "mm = 17\n",
        "\n",
        "def update_the_global():\n",
        "  global mm\n",
        "  mm = 14\n",
        "  print(mm)\n",
        "\n",
        "update_the_global()\n",
        "print(mm)"
      ],
      "metadata": {
        "colab": {
          "base_uri": "https://localhost:8080/"
        },
        "id": "kDQ_g-UOarYg",
        "outputId": "c63f847a-3051-4e6d-a72f-69c2368d7f9b"
      },
      "execution_count": 15,
      "outputs": [
        {
          "output_type": "stream",
          "name": "stdout",
          "text": [
            "14\n",
            "14\n"
          ]
        }
      ]
    },
    {
      "cell_type": "code",
      "source": [
        "var1 = 'apples'\n",
        "var2 = 'bananas'\n",
        "\n",
        "def add_these_things(var1, var2):\n",
        "  return var1 + var2\n",
        "\n",
        "add_these_things(var1, var2)"
      ],
      "metadata": {
        "colab": {
          "base_uri": "https://localhost:8080/",
          "height": 35
        },
        "id": "3XoyRl-ocqeY",
        "outputId": "15125b5e-f8c9-47d0-8f7e-4c4ec2a5530a"
      },
      "execution_count": 18,
      "outputs": [
        {
          "output_type": "execute_result",
          "data": {
            "text/plain": [
              "'applesbananas'"
            ],
            "application/vnd.google.colaboratory.intrinsic+json": {
              "type": "string"
            }
          },
          "metadata": {},
          "execution_count": 18
        }
      ]
    },
    {
      "cell_type": "code",
      "source": [
        "def add_numbers(var3: int, var4: int) -> int:\n",
        "  return var3 + var4"
      ],
      "metadata": {
        "id": "adLkadb9dfBR"
      },
      "execution_count": 19,
      "outputs": []
    },
    {
      "cell_type": "code",
      "source": [
        "var3, var4 = 2342, 2345\n",
        "add_numbers(var3, var4)"
      ],
      "metadata": {
        "colab": {
          "base_uri": "https://localhost:8080/"
        },
        "id": "77-MW8Atd5NK",
        "outputId": "59cfcb7c-dbc7-4786-adb5-8506298cc7dc"
      },
      "execution_count": 20,
      "outputs": [
        {
          "output_type": "execute_result",
          "data": {
            "text/plain": [
              "4687"
            ]
          },
          "metadata": {},
          "execution_count": 20
        }
      ]
    },
    {
      "cell_type": "code",
      "source": [
        "print(add_numbers.__annotations__)"
      ],
      "metadata": {
        "colab": {
          "base_uri": "https://localhost:8080/"
        },
        "id": "1_DZ73_seJDp",
        "outputId": "b0a92ca0-3193-4e52-fadc-b20e93adb136"
      },
      "execution_count": 21,
      "outputs": [
        {
          "output_type": "stream",
          "name": "stdout",
          "text": [
            "{'var3': <class 'int'>, 'var4': <class 'int'>, 'return': <class 'int'>}\n"
          ]
        }
      ]
    },
    {
      "cell_type": "code",
      "source": [
        "def add_numbers(var3: int, var4: int) -> int:\n",
        "  if (type(var3) == int) and (type(var4) == int):\n",
        "    return var3 + var4\n",
        "  else:\n",
        "    print(\"You need two integers to use this fcn\")\n",
        "\n",
        "add_numbers(17,'bananas')"
      ],
      "metadata": {
        "colab": {
          "base_uri": "https://localhost:8080/"
        },
        "id": "qbIpU--DfL24",
        "outputId": "e91d4345-57d2-4a00-e0e8-687616aec038"
      },
      "execution_count": 23,
      "outputs": [
        {
          "output_type": "stream",
          "name": "stdout",
          "text": [
            "You need two integers to use this fcn\n"
          ]
        }
      ]
    },
    {
      "cell_type": "code",
      "source": [
        "def add_numbers():\n",
        "  var3 = input(\"Give me a first number:\")\n",
        "  var4 = input(\"Give me a second number:\")\n",
        "  return int(var3) + int(var4)\n",
        "\n",
        "add_numbers()"
      ],
      "metadata": {
        "colab": {
          "base_uri": "https://localhost:8080/"
        },
        "id": "PY9qMDnVharn",
        "outputId": "3e2b7c8f-81ca-4085-98f2-4f1725b63ffd"
      },
      "execution_count": 29,
      "outputs": [
        {
          "name": "stdout",
          "output_type": "stream",
          "text": [
            "Give me a first number:4\n",
            "Give me a second number:6\n"
          ]
        },
        {
          "output_type": "execute_result",
          "data": {
            "text/plain": [
              "10"
            ]
          },
          "metadata": {},
          "execution_count": 29
        }
      ]
    }
  ]
}